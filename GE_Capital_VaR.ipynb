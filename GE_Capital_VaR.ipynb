{
 "cells": [
  {
   "cell_type": "code",
   "execution_count": 1,
   "metadata": {},
   "outputs": [],
   "source": [
    "# Data Manipulation\n",
    "import numpy as np\n",
    "import pandas as pd\n",
    "\n",
    "# Plotting\n",
    "import matplotlib.pyplot as plt\n",
    "import seaborn\n",
    "import matplotlib.mlab as mlab\n",
    "\n",
    "# Statistical calculation\n",
    "from scipy.stats import norm\n",
    "\n",
    "# Data fetching\n",
    "import fix_yahoo_finance as yf\n",
    "\n",
    "# Tabular data point\n",
    "from tabulate import tabulate"
   ]
  },
  {
   "cell_type": "code",
   "execution_count": 2,
   "metadata": {},
   "outputs": [
    {
     "name": "stdout",
     "output_type": "stream",
     "text": [
      "[*********************100%***********************]  1 of 1 downloaded\n"
     ]
    }
   ],
   "source": [
    "# import data\n",
    "df = yf.download('GE', '2012-01-01', '2018-01-31')"
   ]
  },
  {
   "cell_type": "code",
   "execution_count": 3,
   "metadata": {},
   "outputs": [
    {
     "name": "stdout",
     "output_type": "stream",
     "text": [
      "                 Open       High        Low      Close  Adj Close    Volume\n",
      "Date                                                                       \n",
      "2012-01-03  17.528847  17.788462  17.528847  17.653847  13.679369  61054900\n",
      "2012-01-04  17.605770  17.884615  17.576923  17.846153  13.828383  44464900\n",
      "2012-01-05  17.750000  17.884615  17.586538  17.836538  13.820932  47652000\n",
      "2012-01-06  18.009615  18.067308  17.846153  17.932692  13.895441  53112200\n",
      "2012-01-09  18.019230  18.153847  17.846153  18.134615  14.051897  48866900\n"
     ]
    }
   ],
   "source": [
    "print(df.head())"
   ]
  },
  {
   "cell_type": "code",
   "execution_count": 4,
   "metadata": {},
   "outputs": [
    {
     "name": "stdout",
     "output_type": "stream",
     "text": [
      "                Close\n",
      "Date                 \n",
      "2012-01-03  17.653847\n",
      "2012-01-04  17.846153\n",
      "2012-01-05  17.836538\n",
      "2012-01-06  17.932692\n",
      "2012-01-09  18.134615\n"
     ]
    }
   ],
   "source": [
    "df = df[['Close']]\n",
    "print(df.head())"
   ]
  },
  {
   "cell_type": "code",
   "execution_count": 5,
   "metadata": {},
   "outputs": [
    {
     "name": "stdout",
     "output_type": "stream",
     "text": [
      "Date\n",
      "2012-01-03         NaN\n",
      "2012-01-04    0.010893\n",
      "2012-01-05   -0.000539\n",
      "2012-01-06    0.005391\n",
      "2012-01-09    0.011260\n",
      "Name: returns, dtype: float64\n"
     ]
    }
   ],
   "source": [
    "df['returns'] = df.Close.pct_change()\n",
    "print(df['returns'].head())"
   ]
  },
  {
   "cell_type": "code",
   "execution_count": 6,
   "metadata": {},
   "outputs": [
    {
     "name": "stdout",
     "output_type": "stream",
     "text": [
      "-2.1357614467301347e-05\n"
     ]
    }
   ],
   "source": [
    "mean = np.mean(df['returns'])\n",
    "print(mean)"
   ]
  },
  {
   "cell_type": "code",
   "execution_count": 7,
   "metadata": {},
   "outputs": [
    {
     "name": "stdout",
     "output_type": "stream",
     "text": [
      "0.011900618918560861\n"
     ]
    }
   ],
   "source": [
    "std_dev = np.std(df['returns'])\n",
    "print(std_dev)"
   ]
  },
  {
   "cell_type": "code",
   "execution_count": 8,
   "metadata": {},
   "outputs": [
    {
     "name": "stderr",
     "output_type": "stream",
     "text": [
      "c:\\users\\nahor\\appdata\\local\\programs\\python\\python37-32\\lib\\site-packages\\ipykernel_launcher.py:3: MatplotlibDeprecationWarning: scipy.stats.norm.pdf\n",
      "  This is separate from the ipykernel package so we can avoid doing imports until\n"
     ]
    },
    {
     "data": {
      "image/png": "[encoded data removed]",
      "text/plain": [
       "<Figure size 432x288 with 1 Axes>"
      ]
     },
     "metadata": {
      "needs_background": "light"
     },
     "output_type": "display_data"
    }
   ],
   "source": [
    "df['returns'].hist(bins=40, density=True, histtype='stepfilled', alpha=0.5)\n",
    "x = np.linspace(mean - 3*std_dev, mean + 3*std_dev, 100)\n",
    "plt.plot(x, mlab.normpdf(x, mean, std_dev), \"r\")\n",
    "plt.show()"
   ]
  },
  {
   "cell_type": "code",
   "execution_count": 9,
   "metadata": {},
   "outputs": [
    {
     "name": "stdout",
     "output_type": "stream",
     "text": [
      "Confidence Level      Value at Risk\n",
      "------------------  ---------------\n",
      "90%                      -0.0152726\n",
      "95%                      -0.0195961\n",
      "99%                      -0.0277063\n"
     ]
    }
   ],
   "source": [
    "VaR_90 = norm.ppf(1-0.9, mean, std_dev)\n",
    "VaR_95 = norm.ppf(1-0.95, mean, std_dev)\n",
    "VaR_99 = norm.ppf(1-0.99, mean, std_dev)\n",
    "print(tabulate([['90%', VaR_90], ['95%', VaR_95], ['99%', VaR_99]], headers=['Confidence Level', 'Value at Risk']))"
   ]
  },
  {
   "cell_type": "code",
   "execution_count": null,
   "metadata": {},
   "outputs": [],
   "source": []
  }
 ],
 "metadata": {
  "kernelspec": {
   "display_name": "Python 3",
   "language": "python",
   "name": "python3"
  },
  "language_info": {
   "codemirror_mode": {
    "name": "ipython",
    "version": 3
   },
   "file_extension": ".py",
   "mimetype": "text/x-python",
   "name": "python",
   "nbconvert_exporter": "python",
   "pygments_lexer": "ipython3",
   "version": "3.7.2"
  }
 },
 "nbformat": 4,
 "nbformat_minor": 2
}
